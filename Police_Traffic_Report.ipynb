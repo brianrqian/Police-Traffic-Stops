{
 "cells": [
  {
   "cell_type": "markdown",
   "metadata": {},
   "source": [
    "# Assessment of Police Traffic Stops in San Diego"
   ]
  },
  {
   "cell_type": "markdown",
   "metadata": {},
   "source": [
    "#### Brian Qian, Kelly Kong\n",
    "\n",
    "#### University of California, San Diego\n",
    "\n",
    "#### DSC 167: Fairness and Algorithmic Decisions\n",
    "\n",
    "#### Dr. Aaron Fraenkel \n",
    "\n",
    "#### May 8, 2022"
   ]
  },
  {
   "cell_type": "markdown",
   "metadata": {},
   "source": [
    "## Introduction to Problem"
   ]
  },
  {
   "cell_type": "markdown",
   "metadata": {},
   "source": [
    "Every day, people constantly stereotype each other, whether we know it or not. Solely based on the way we act, the way we talk, and even the way we dress, people often make assumptions about one another. Along with stereotypes spread within the media, this leads to an unconscious bias created before even meeting or talking to a person. As a result, people may act differently towards those who fit certain stereotypes; some may feel the need to act more hostile or defensive towards others, while some may act more friendly with others. Ultimately, these unconscious and conscious biases are intertwined with systems meant to be equal and fair, which needs to be addressed. \n",
    "America has a history of racial prejudice within its policing system, and many extreme events of concern are causing the call for reform within these governmental systems. Based on a San Diego news article, an analysis showed that “some areas with large minority populations saw more enforcement than mostly White areas with similar crime totals.” This raises concern because regardless of similarities in crime totals, populations are being targeted. With this article sparking the issue at a more local level, we will be replicating results from an MIT paper on fairness in the stop and risk practice to investigate potential bias in the San Diego police force. To replicate the paper, we will be using a San Diego police dataset, provided by the Ocean Police Project. \n",
    "Using demographic parity on the data, we found that police unfairly searched and arrested Black and Hispanic individuals more, while favoring white and Asian Pacific Islanders, however the police were generally fair to every race when issuing warnings or citations  \n"
   ]
  },
  {
   "cell_type": "markdown",
   "metadata": {},
   "source": [
    "## Description of Inequity and Context"
   ]
  },
  {
   "cell_type": "markdown",
   "metadata": {},
   "source": [
    "In order to understand the inequity at hand, we must discuss the historical background to illustrate the problem fully. We’ve heard their names across national news: George Floyd, Breonna Taylor, etc. These are just recent names of the victims of police brutality. There are names of high-profile police violence that date back to the 1990s. Inequality, discrimination, and racism are deeply rooted in our country dating back to its creation. Our nation is rooted in slavery that still connects to present-day racial disparities in policing and police violence against minorities. There are traces in history that indicate that policing stems from the surveillance of enslaved Black people, which can still be seen today (Walsh 2021). Many biases and stereotypes are instilled into us and continue to carry from generation to generation. The entire practice of how we govern is built upon systemic racism, which has and continues to disadvantage minoritized groups economically and socially by encouraging discrimination. "
   ]
  },
  {
   "cell_type": "markdown",
   "metadata": {},
   "source": [
    "## Measurement and Power"
   ]
  },
  {
   "cell_type": "markdown",
   "metadata": {},
   "source": [
    "Data is often viewed as something objective and which “facts” heavily rely upon. However, because data is collected, processed, and analyzed by humans, this inserts potential bias into something that’s seen as objective. The measurement process is usually designed and implemented by those with positions of power which most likely reinforce systems of power within an existing social structure (Fraenkel, Lecture 3). These systems of power can be explained through the matrix of domination which describes the different aspects of power: structural, disciplinary, hegemonic, and interpersonal. These four domains create for the privilege of the dominant group while unfairly oppressing minoritized groups (D’Ignazio & Klein Chapter, 2020, Chapter 1). The police force is an example of a disciplinary domain that upholds these inequities and manages oppression that can create both allocative and representative harm. If the data is biased, this can lead to representative harm toward minoritized groups, while directly affecting individuals within certain populations through allocative harm.                                                                                           \n",
    "\n",
    "Factors such as poorly defined variables, missing data, and proxies for targets can question the validity of a dataset, as it inserts human biases (Fraenkel, Lecture 3). In our police dataset, multi-racial individuals, Native Americans, and more aren’t represented in the dataset as they’re classified under “other”, while the variable Hispanic is used even though the term can be applied to any race. The race column contains poorly defined variables that may misrepresent specific populations, particularly minorities. In addition, there are a significant amount of missing data for certain columns that we had to omit that might’ve been useful. This missing data can skew specific demographics and create inaccurate results. Depending on how the data may have been intentionally collected, these biases may support positions of power rather than the communities that need accurate representation to prevent further representative and allocational harm. \n"
   ]
  },
  {
   "cell_type": "code",
   "execution_count": 21,
   "metadata": {},
   "outputs": [],
   "source": [
    "import pandas as pd\n",
    "import numpy as np\n",
    "import geopandas as gpd\n",
    "import cenpy\n",
    "import matplotlib.pyplot as plt\n",
    "import warnings\n",
    "warnings.filterwarnings('ignore')"
   ]
  },
  {
   "cell_type": "code",
   "execution_count": 3,
   "metadata": {},
   "outputs": [],
   "source": [
    "df = pd.read_csv('ca_san_diego_2020_04_01.csv')\n",
    "#service_divisions = gpd.read_file('shapefiles/divisions_datasd.shp')\n",
    "#service_divisions = gpd.read_file('/Users/brian/Downloads/ca_san_diego_shapefiles/divisions_datasd.shp')\n",
    "service_divisions = gpd.read_file('ca_san_diego_shapefiles/divisions_datasd.shp')"
   ]
  },
  {
   "cell_type": "code",
   "execution_count": 22,
   "metadata": {},
   "outputs": [],
   "source": [
    "acs = cenpy.products.ACS(2017)\n",
    "vars_to_download = {\n",
    "    #\"B01003_001E\": \"total_pop\",           # Total population\n",
    "    #\"B02001_002E\": \"white\",     # Total white population\n",
    "    #\"B02001_003E\": \"black\",\n",
    "    #\"B02001_004E\": \"native american\",\n",
    "    #\"B02001_005E\": \"asian\",\n",
    "    #\"B02001_006E\": \"pacific islander\",\n",
    "    #\"B02001_007E\": \"other\",\n",
    "    \"B03002_001E\": \"total_pop\",\n",
    "    \"B03002_003E\": \"white\",\n",
    "    \"B03002_004E\": \"black\",\n",
    "    \"B03002_005E\": \"native american\",\n",
    "    \"B03002_006E\": \"asian\",\n",
    "    \"B03002_007E\": \"pacific islander\",\n",
    "    \"B03002_008E\": \"other_1\",\n",
    "    \"B03002_009E\": \"other_2\",\n",
    "    \"B03002_010E\": \"other_3\",\n",
    "    \"B03002_011E\": \"other_4\",\n",
    "    \"B03002_012E\": \"hispanic\",\n",
    "}\n",
    "vars_to_download_l = list(vars_to_download.keys())"
   ]
  },
  {
   "cell_type": "code",
   "execution_count": 23,
   "metadata": {},
   "outputs": [],
   "source": [
    "db = acs.from_msa(\"San Diego, CA\",\n",
    "                  level=\"tract\",\n",
    "                  variables=vars_to_download_l\n",
    "                 )"
   ]
  },
  {
   "cell_type": "code",
   "execution_count": 24,
   "metadata": {},
   "outputs": [],
   "source": [
    "var_names = acs.variables\\\n",
    "               .reindex(vars_to_download)\\\n",
    "               [[\"label\", \"concept\"]]\\\n",
    "               .reset_index()\\\n",
    "               .rename(columns={\"index\": \"var_id\"})\n",
    "var_names[\"short_name\"] = var_names[\"var_id\"].map(vars_to_download)\n",
    "db = db.rename(columns=vars_to_download)"
   ]
  },
  {
   "cell_type": "code",
   "execution_count": 25,
   "metadata": {},
   "outputs": [],
   "source": [
    "db = db.to_crs(2230)"
   ]
  },
  {
   "cell_type": "code",
   "execution_count": 8,
   "metadata": {},
   "outputs": [],
   "source": [
    "pd.set_option('display.max_columns', None)\n",
    "pd.set_option('display.max_rows', None)"
   ]
  },
  {
   "cell_type": "code",
   "execution_count": 9,
   "metadata": {},
   "outputs": [],
   "source": [
    "districts = {'NORTHERN': ['110','120','130'], 'NORTHEASTERN': ['230','240'], \"EASTERN\": ['310','320'], 'SOUTHEASTERN':['430','440'], 'CENTRAL':['510','520','530'], 'WESTERN':['610','620','630'], 'SOUTHERN':['710','720'], 'MID-CITY':['810','820','830', '840'], 'NORTHWESTERN':['930']}"
   ]
  },
  {
   "cell_type": "code",
   "execution_count": 10,
   "metadata": {},
   "outputs": [],
   "source": [
    "service_divisions['service_area'] = service_divisions['div_name'].map(districts)"
   ]
  },
  {
   "cell_type": "code",
   "execution_count": 11,
   "metadata": {},
   "outputs": [],
   "source": [
    "service_divisions = service_divisions.explode('service_area')\n",
    "service_divisions = service_divisions[['service_area','geometry']]"
   ]
  },
  {
   "cell_type": "code",
   "execution_count": 12,
   "metadata": {},
   "outputs": [],
   "source": [
    "test = gpd.sjoin(left_df=service_divisions, right_df=db, how='left')"
   ]
  },
  {
   "cell_type": "code",
   "execution_count": 13,
   "metadata": {},
   "outputs": [],
   "source": [
    "divisions = test.groupby('service_area').sum()\n",
    "divisions['other'] = divisions['total_pop'] - divisions['white'] - divisions['black'] - divisions['asian'] - divisions['pacific islander'] - divisions['hispanic']\n",
    "divisions['asian/pacific islander'] = divisions['asian'] + divisions['pacific islander'] \n",
    "#divisions['other'] = divisions['native american'] + divisions['other_1'] + divisions['other_2'] + divisions['other_3'] + divisions['other_4']\n",
    "divisions = divisions.reset_index()[['service_area','total_pop','white','black','asian/pacific islander','hispanic','other']]"
   ]
  },
  {
   "cell_type": "code",
   "execution_count": 14,
   "metadata": {},
   "outputs": [],
   "source": [
    "final_divisions = divisions.merge(service_divisions, on='service_area')"
   ]
  },
  {
   "cell_type": "code",
   "execution_count": 15,
   "metadata": {},
   "outputs": [],
   "source": [
    "df2 = df.merge(final_divisions, how='left')"
   ]
  },
  {
   "cell_type": "code",
   "execution_count": 16,
   "metadata": {},
   "outputs": [],
   "source": [
    "temp = df.groupby('service_area')['subject_race'].value_counts(normalize=True)"
   ]
  },
  {
   "cell_type": "code",
   "execution_count": 17,
   "metadata": {},
   "outputs": [],
   "source": [
    "#final_divisions.groupby('service_area')"
   ]
  },
  {
   "cell_type": "code",
   "execution_count": 18,
   "metadata": {},
   "outputs": [],
   "source": [
    "#train = df.iloc[:191513,:]\n",
    "test = df#.iloc[191513:,:]"
   ]
  },
  {
   "cell_type": "code",
   "execution_count": 19,
   "metadata": {},
   "outputs": [
    {
     "data": {
      "text/html": [
       "<div>\n",
       "<style scoped>\n",
       "    .dataframe tbody tr th:only-of-type {\n",
       "        vertical-align: middle;\n",
       "    }\n",
       "\n",
       "    .dataframe tbody tr th {\n",
       "        vertical-align: top;\n",
       "    }\n",
       "\n",
       "    .dataframe thead th {\n",
       "        text-align: right;\n",
       "    }\n",
       "</style>\n",
       "<table border=\"1\" class=\"dataframe\">\n",
       "  <thead>\n",
       "    <tr style=\"text-align: right;\">\n",
       "      <th></th>\n",
       "      <th>raw_row_number</th>\n",
       "      <th>date</th>\n",
       "      <th>time</th>\n",
       "      <th>service_area</th>\n",
       "      <th>subject_age</th>\n",
       "      <th>subject_race</th>\n",
       "      <th>subject_sex</th>\n",
       "      <th>type</th>\n",
       "      <th>arrest_made</th>\n",
       "      <th>citation_issued</th>\n",
       "      <th>warning_issued</th>\n",
       "      <th>outcome</th>\n",
       "      <th>contraband_found</th>\n",
       "      <th>search_conducted</th>\n",
       "      <th>search_person</th>\n",
       "      <th>search_vehicle</th>\n",
       "      <th>search_basis</th>\n",
       "      <th>reason_for_search</th>\n",
       "      <th>reason_for_stop</th>\n",
       "      <th>raw_action_taken</th>\n",
       "      <th>raw_subject_race_description</th>\n",
       "      <th>total_pop</th>\n",
       "      <th>white</th>\n",
       "      <th>black</th>\n",
       "      <th>asian/pacific islander</th>\n",
       "      <th>hispanic</th>\n",
       "      <th>other</th>\n",
       "      <th>geometry</th>\n",
       "    </tr>\n",
       "  </thead>\n",
       "  <tbody>\n",
       "    <tr>\n",
       "      <th>0</th>\n",
       "      <td>1</td>\n",
       "      <td>2014-01-01</td>\n",
       "      <td>01:25:00</td>\n",
       "      <td>110</td>\n",
       "      <td>24.0</td>\n",
       "      <td>white</td>\n",
       "      <td>male</td>\n",
       "      <td>vehicular</td>\n",
       "      <td>False</td>\n",
       "      <td>True</td>\n",
       "      <td>False</td>\n",
       "      <td>citation</td>\n",
       "      <td>NaN</td>\n",
       "      <td>False</td>\n",
       "      <td>False</td>\n",
       "      <td>False</td>\n",
       "      <td>NaN</td>\n",
       "      <td>NaN</td>\n",
       "      <td>Moving Violation</td>\n",
       "      <td>Citation</td>\n",
       "      <td>WHITE</td>\n",
       "      <td>274271.0</td>\n",
       "      <td>167769.0</td>\n",
       "      <td>6907.0</td>\n",
       "      <td>40788.0</td>\n",
       "      <td>47961.0</td>\n",
       "      <td>10846.0</td>\n",
       "      <td>POLYGON ((6257399.474 1913720.405, 6258021.781...</td>\n",
       "    </tr>\n",
       "    <tr>\n",
       "      <th>1</th>\n",
       "      <td>2</td>\n",
       "      <td>2014-01-01</td>\n",
       "      <td>05:47:00</td>\n",
       "      <td>320</td>\n",
       "      <td>42.0</td>\n",
       "      <td>white</td>\n",
       "      <td>male</td>\n",
       "      <td>vehicular</td>\n",
       "      <td>False</td>\n",
       "      <td>False</td>\n",
       "      <td>True</td>\n",
       "      <td>warning</td>\n",
       "      <td>NaN</td>\n",
       "      <td>False</td>\n",
       "      <td>False</td>\n",
       "      <td>False</td>\n",
       "      <td>NaN</td>\n",
       "      <td>NaN</td>\n",
       "      <td>Moving Violation</td>\n",
       "      <td>Verbal Warning</td>\n",
       "      <td>WHITE</td>\n",
       "      <td>267640.0</td>\n",
       "      <td>157171.0</td>\n",
       "      <td>14162.0</td>\n",
       "      <td>29680.0</td>\n",
       "      <td>54041.0</td>\n",
       "      <td>12586.0</td>\n",
       "      <td>POLYGON ((6323355.804 1898933.226, 6324130.958...</td>\n",
       "    </tr>\n",
       "    <tr>\n",
       "      <th>2</th>\n",
       "      <td>3</td>\n",
       "      <td>2014-01-01</td>\n",
       "      <td>07:46:00</td>\n",
       "      <td>320</td>\n",
       "      <td>29.0</td>\n",
       "      <td>asian/pacific islander</td>\n",
       "      <td>male</td>\n",
       "      <td>vehicular</td>\n",
       "      <td>False</td>\n",
       "      <td>False</td>\n",
       "      <td>True</td>\n",
       "      <td>warning</td>\n",
       "      <td>NaN</td>\n",
       "      <td>False</td>\n",
       "      <td>False</td>\n",
       "      <td>False</td>\n",
       "      <td>NaN</td>\n",
       "      <td>NaN</td>\n",
       "      <td>Moving Violation</td>\n",
       "      <td>Verbal Warning</td>\n",
       "      <td>LAOTIAN</td>\n",
       "      <td>267640.0</td>\n",
       "      <td>157171.0</td>\n",
       "      <td>14162.0</td>\n",
       "      <td>29680.0</td>\n",
       "      <td>54041.0</td>\n",
       "      <td>12586.0</td>\n",
       "      <td>POLYGON ((6323355.804 1898933.226, 6324130.958...</td>\n",
       "    </tr>\n",
       "    <tr>\n",
       "      <th>3</th>\n",
       "      <td>4</td>\n",
       "      <td>2014-01-01</td>\n",
       "      <td>08:10:00</td>\n",
       "      <td>610</td>\n",
       "      <td>23.0</td>\n",
       "      <td>white</td>\n",
       "      <td>male</td>\n",
       "      <td>vehicular</td>\n",
       "      <td>False</td>\n",
       "      <td>True</td>\n",
       "      <td>False</td>\n",
       "      <td>citation</td>\n",
       "      <td>NaN</td>\n",
       "      <td>False</td>\n",
       "      <td>False</td>\n",
       "      <td>False</td>\n",
       "      <td>NaN</td>\n",
       "      <td>NaN</td>\n",
       "      <td>Moving Violation</td>\n",
       "      <td>Citation</td>\n",
       "      <td>WHITE</td>\n",
       "      <td>205228.0</td>\n",
       "      <td>129765.0</td>\n",
       "      <td>8069.0</td>\n",
       "      <td>17832.0</td>\n",
       "      <td>41948.0</td>\n",
       "      <td>7614.0</td>\n",
       "      <td>POLYGON ((6280788.358 1873275.706, 6280793.053...</td>\n",
       "    </tr>\n",
       "    <tr>\n",
       "      <th>4</th>\n",
       "      <td>5</td>\n",
       "      <td>2014-01-01</td>\n",
       "      <td>08:35:00</td>\n",
       "      <td>930</td>\n",
       "      <td>35.0</td>\n",
       "      <td>hispanic</td>\n",
       "      <td>male</td>\n",
       "      <td>vehicular</td>\n",
       "      <td>False</td>\n",
       "      <td>True</td>\n",
       "      <td>False</td>\n",
       "      <td>citation</td>\n",
       "      <td>NaN</td>\n",
       "      <td>False</td>\n",
       "      <td>False</td>\n",
       "      <td>False</td>\n",
       "      <td>NaN</td>\n",
       "      <td>NaN</td>\n",
       "      <td>Equipment Violation</td>\n",
       "      <td>Citation</td>\n",
       "      <td>HISPANIC</td>\n",
       "      <td>191122.0</td>\n",
       "      <td>105880.0</td>\n",
       "      <td>3566.0</td>\n",
       "      <td>53185.0</td>\n",
       "      <td>18776.0</td>\n",
       "      <td>9715.0</td>\n",
       "      <td>POLYGON ((6290347.459 1952824.477, 6290674.051...</td>\n",
       "    </tr>\n",
       "    <tr>\n",
       "      <th>5</th>\n",
       "      <td>6</td>\n",
       "      <td>2014-01-01</td>\n",
       "      <td>08:39:00</td>\n",
       "      <td>820</td>\n",
       "      <td>30.0</td>\n",
       "      <td>hispanic</td>\n",
       "      <td>male</td>\n",
       "      <td>vehicular</td>\n",
       "      <td>False</td>\n",
       "      <td>False</td>\n",
       "      <td>True</td>\n",
       "      <td>warning</td>\n",
       "      <td>NaN</td>\n",
       "      <td>False</td>\n",
       "      <td>False</td>\n",
       "      <td>False</td>\n",
       "      <td>NaN</td>\n",
       "      <td>NaN</td>\n",
       "      <td>Equipment Violation</td>\n",
       "      <td>Verbal Warning</td>\n",
       "      <td>HISPANIC</td>\n",
       "      <td>263881.0</td>\n",
       "      <td>98943.0</td>\n",
       "      <td>26792.0</td>\n",
       "      <td>30643.0</td>\n",
       "      <td>98833.0</td>\n",
       "      <td>8670.0</td>\n",
       "      <td>POLYGON ((6300696.000 1863112.000, 6300797.593...</td>\n",
       "    </tr>\n",
       "    <tr>\n",
       "      <th>6</th>\n",
       "      <td>7</td>\n",
       "      <td>2014-01-01</td>\n",
       "      <td>09:13:00</td>\n",
       "      <td>710</td>\n",
       "      <td>19.0</td>\n",
       "      <td>hispanic</td>\n",
       "      <td>female</td>\n",
       "      <td>vehicular</td>\n",
       "      <td>False</td>\n",
       "      <td>True</td>\n",
       "      <td>False</td>\n",
       "      <td>citation</td>\n",
       "      <td>NaN</td>\n",
       "      <td>False</td>\n",
       "      <td>False</td>\n",
       "      <td>False</td>\n",
       "      <td>NaN</td>\n",
       "      <td>NaN</td>\n",
       "      <td>Moving Violation</td>\n",
       "      <td>Citation</td>\n",
       "      <td>HISPANIC</td>\n",
       "      <td>177437.0</td>\n",
       "      <td>23370.0</td>\n",
       "      <td>8067.0</td>\n",
       "      <td>20728.0</td>\n",
       "      <td>120828.0</td>\n",
       "      <td>4444.0</td>\n",
       "      <td>POLYGON ((6294084.233 1801858.103, 6294115.999...</td>\n",
       "    </tr>\n",
       "    <tr>\n",
       "      <th>7</th>\n",
       "      <td>8</td>\n",
       "      <td>2014-01-01</td>\n",
       "      <td>09:50:00</td>\n",
       "      <td>120</td>\n",
       "      <td>32.0</td>\n",
       "      <td>white</td>\n",
       "      <td>male</td>\n",
       "      <td>vehicular</td>\n",
       "      <td>False</td>\n",
       "      <td>False</td>\n",
       "      <td>True</td>\n",
       "      <td>warning</td>\n",
       "      <td>NaN</td>\n",
       "      <td>False</td>\n",
       "      <td>False</td>\n",
       "      <td>False</td>\n",
       "      <td>NaN</td>\n",
       "      <td>NaN</td>\n",
       "      <td>Moving Violation</td>\n",
       "      <td>Written Warning</td>\n",
       "      <td>WHITE</td>\n",
       "      <td>274271.0</td>\n",
       "      <td>167769.0</td>\n",
       "      <td>6907.0</td>\n",
       "      <td>40788.0</td>\n",
       "      <td>47961.0</td>\n",
       "      <td>10846.0</td>\n",
       "      <td>POLYGON ((6257399.474 1913720.405, 6258021.781...</td>\n",
       "    </tr>\n",
       "    <tr>\n",
       "      <th>8</th>\n",
       "      <td>9</td>\n",
       "      <td>2014-01-01</td>\n",
       "      <td>10:00:00</td>\n",
       "      <td>120</td>\n",
       "      <td>36.0</td>\n",
       "      <td>white</td>\n",
       "      <td>male</td>\n",
       "      <td>vehicular</td>\n",
       "      <td>False</td>\n",
       "      <td>True</td>\n",
       "      <td>False</td>\n",
       "      <td>citation</td>\n",
       "      <td>NaN</td>\n",
       "      <td>False</td>\n",
       "      <td>False</td>\n",
       "      <td>False</td>\n",
       "      <td>NaN</td>\n",
       "      <td>NaN</td>\n",
       "      <td>Moving Violation</td>\n",
       "      <td>Citation</td>\n",
       "      <td>WHITE</td>\n",
       "      <td>274271.0</td>\n",
       "      <td>167769.0</td>\n",
       "      <td>6907.0</td>\n",
       "      <td>40788.0</td>\n",
       "      <td>47961.0</td>\n",
       "      <td>10846.0</td>\n",
       "      <td>POLYGON ((6257399.474 1913720.405, 6258021.781...</td>\n",
       "    </tr>\n",
       "    <tr>\n",
       "      <th>9</th>\n",
       "      <td>10</td>\n",
       "      <td>2014-01-01</td>\n",
       "      <td>10:40:00</td>\n",
       "      <td>120</td>\n",
       "      <td>27.0</td>\n",
       "      <td>hispanic</td>\n",
       "      <td>male</td>\n",
       "      <td>vehicular</td>\n",
       "      <td>False</td>\n",
       "      <td>True</td>\n",
       "      <td>False</td>\n",
       "      <td>citation</td>\n",
       "      <td>NaN</td>\n",
       "      <td>False</td>\n",
       "      <td>False</td>\n",
       "      <td>False</td>\n",
       "      <td>NaN</td>\n",
       "      <td>NaN</td>\n",
       "      <td>Moving Violation</td>\n",
       "      <td>Citation</td>\n",
       "      <td>HISPANIC</td>\n",
       "      <td>274271.0</td>\n",
       "      <td>167769.0</td>\n",
       "      <td>6907.0</td>\n",
       "      <td>40788.0</td>\n",
       "      <td>47961.0</td>\n",
       "      <td>10846.0</td>\n",
       "      <td>POLYGON ((6257399.474 1913720.405, 6258021.781...</td>\n",
       "    </tr>\n",
       "  </tbody>\n",
       "</table>\n",
       "</div>"
      ],
      "text/plain": [
       "  raw_row_number        date      time service_area  subject_age  \\\n",
       "0              1  2014-01-01  01:25:00          110         24.0   \n",
       "1              2  2014-01-01  05:47:00          320         42.0   \n",
       "2              3  2014-01-01  07:46:00          320         29.0   \n",
       "3              4  2014-01-01  08:10:00          610         23.0   \n",
       "4              5  2014-01-01  08:35:00          930         35.0   \n",
       "5              6  2014-01-01  08:39:00          820         30.0   \n",
       "6              7  2014-01-01  09:13:00          710         19.0   \n",
       "7              8  2014-01-01  09:50:00          120         32.0   \n",
       "8              9  2014-01-01  10:00:00          120         36.0   \n",
       "9             10  2014-01-01  10:40:00          120         27.0   \n",
       "\n",
       "             subject_race subject_sex       type arrest_made citation_issued  \\\n",
       "0                   white        male  vehicular       False            True   \n",
       "1                   white        male  vehicular       False           False   \n",
       "2  asian/pacific islander        male  vehicular       False           False   \n",
       "3                   white        male  vehicular       False            True   \n",
       "4                hispanic        male  vehicular       False            True   \n",
       "5                hispanic        male  vehicular       False           False   \n",
       "6                hispanic      female  vehicular       False            True   \n",
       "7                   white        male  vehicular       False           False   \n",
       "8                   white        male  vehicular       False            True   \n",
       "9                hispanic        male  vehicular       False            True   \n",
       "\n",
       "  warning_issued   outcome contraband_found  search_conducted search_person  \\\n",
       "0          False  citation              NaN             False         False   \n",
       "1           True   warning              NaN             False         False   \n",
       "2           True   warning              NaN             False         False   \n",
       "3          False  citation              NaN             False         False   \n",
       "4          False  citation              NaN             False         False   \n",
       "5           True   warning              NaN             False         False   \n",
       "6          False  citation              NaN             False         False   \n",
       "7           True   warning              NaN             False         False   \n",
       "8          False  citation              NaN             False         False   \n",
       "9          False  citation              NaN             False         False   \n",
       "\n",
       "  search_vehicle search_basis reason_for_search      reason_for_stop  \\\n",
       "0          False          NaN               NaN     Moving Violation   \n",
       "1          False          NaN               NaN     Moving Violation   \n",
       "2          False          NaN               NaN     Moving Violation   \n",
       "3          False          NaN               NaN     Moving Violation   \n",
       "4          False          NaN               NaN  Equipment Violation   \n",
       "5          False          NaN               NaN  Equipment Violation   \n",
       "6          False          NaN               NaN     Moving Violation   \n",
       "7          False          NaN               NaN     Moving Violation   \n",
       "8          False          NaN               NaN     Moving Violation   \n",
       "9          False          NaN               NaN     Moving Violation   \n",
       "\n",
       "  raw_action_taken raw_subject_race_description  total_pop     white    black  \\\n",
       "0         Citation                        WHITE   274271.0  167769.0   6907.0   \n",
       "1   Verbal Warning                        WHITE   267640.0  157171.0  14162.0   \n",
       "2   Verbal Warning                      LAOTIAN   267640.0  157171.0  14162.0   \n",
       "3         Citation                        WHITE   205228.0  129765.0   8069.0   \n",
       "4         Citation                     HISPANIC   191122.0  105880.0   3566.0   \n",
       "5   Verbal Warning                     HISPANIC   263881.0   98943.0  26792.0   \n",
       "6         Citation                     HISPANIC   177437.0   23370.0   8067.0   \n",
       "7  Written Warning                        WHITE   274271.0  167769.0   6907.0   \n",
       "8         Citation                        WHITE   274271.0  167769.0   6907.0   \n",
       "9         Citation                     HISPANIC   274271.0  167769.0   6907.0   \n",
       "\n",
       "   asian/pacific islander  hispanic    other  \\\n",
       "0                 40788.0   47961.0  10846.0   \n",
       "1                 29680.0   54041.0  12586.0   \n",
       "2                 29680.0   54041.0  12586.0   \n",
       "3                 17832.0   41948.0   7614.0   \n",
       "4                 53185.0   18776.0   9715.0   \n",
       "5                 30643.0   98833.0   8670.0   \n",
       "6                 20728.0  120828.0   4444.0   \n",
       "7                 40788.0   47961.0  10846.0   \n",
       "8                 40788.0   47961.0  10846.0   \n",
       "9                 40788.0   47961.0  10846.0   \n",
       "\n",
       "                                            geometry  \n",
       "0  POLYGON ((6257399.474 1913720.405, 6258021.781...  \n",
       "1  POLYGON ((6323355.804 1898933.226, 6324130.958...  \n",
       "2  POLYGON ((6323355.804 1898933.226, 6324130.958...  \n",
       "3  POLYGON ((6280788.358 1873275.706, 6280793.053...  \n",
       "4  POLYGON ((6290347.459 1952824.477, 6290674.051...  \n",
       "5  POLYGON ((6300696.000 1863112.000, 6300797.593...  \n",
       "6  POLYGON ((6294084.233 1801858.103, 6294115.999...  \n",
       "7  POLYGON ((6257399.474 1913720.405, 6258021.781...  \n",
       "8  POLYGON ((6257399.474 1913720.405, 6258021.781...  \n",
       "9  POLYGON ((6257399.474 1913720.405, 6258021.781...  "
      ]
     },
     "execution_count": 19,
     "metadata": {},
     "output_type": "execute_result"
    }
   ],
   "source": [
    "df2.head(10)"
   ]
  },
  {
   "cell_type": "markdown",
   "metadata": {},
   "source": [
    "## Quantitative Measures of Fairness"
   ]
  },
  {
   "cell_type": "markdown",
   "metadata": {},
   "source": [
    "In order to evaluate fairness in terms of the demographic to see whether race plays into police stops, we will be using demographic parity. Demographic parity measures see whether the proportion of a protected class receives a positive outcome at equal rates (Cortez 2019). An example of demographic parity that the paper mentions is that the demographic of those who were searched and frisked should be proportional to those who were stopped as well. If race isn’t a factor in the police officer’s decision of whether they would search them, then the proportions should be similar. Our investigation hopes to go even further by analyzing other outcomes of police stops as well since our dataset includes whether the stop resulted in a search, person search, vehicle search, warning, citation, or arrest. \n",
    "\n",
    " Thus to determine if our dataset is fair with respect to Demographic parity, we analyzed the data and statistically compared the demographic breakdown between the original population who got stopped and the population who ultimately got searched, received a warning, got issued a citation, or put under arrest. We decided to take a look into these features as the outcomes of a police stop vary drastically from receiving a minor warning to getting arrested. Our analysis stems from wanting to better understand if a protected class is more likely or not to receive harsher punishments in proportion to their demographic rates. \n",
    "So, in each table, the “Total # of Stops” is the distribution of stops per race and the “Percent of Stops” is the proportion of stops per racial group. We also calculated and obtained the proportions and distributions of each feature that we wanted to take into consideration. To visualize these statistics in a more concise manner, we also graphed the distribution of stops and features per race in a stacked bar chart. Additionally, we also graphed the proportions in the percentage of stops and features per race in a multi-bar chart. \n"
   ]
  },
  {
   "cell_type": "code",
   "execution_count": 30,
   "metadata": {},
   "outputs": [],
   "source": [
    "def aspercent(column,decimals=2):\n",
    "    #assert decimals >= 0\n",
    "    return column #(round(column*100,decimals)).astype(str) + \"%\""
   ]
  },
  {
   "cell_type": "code",
   "execution_count": 31,
   "metadata": {},
   "outputs": [],
   "source": [
    "demographic_groups = test['subject_race'].value_counts().to_dict()"
   ]
  },
  {
   "cell_type": "code",
   "execution_count": 32,
   "metadata": {},
   "outputs": [],
   "source": [
    "percentage_of_groups = aspercent(test['subject_race'].value_counts(normalize=True), decimals = 2).to_dict()"
   ]
  },
  {
   "cell_type": "code",
   "execution_count": 33,
   "metadata": {},
   "outputs": [],
   "source": [
    "searched_groups = test[test['search_conducted'] == True]['subject_race'].value_counts().to_dict()"
   ]
  },
  {
   "cell_type": "code",
   "execution_count": 34,
   "metadata": {},
   "outputs": [],
   "source": [
    "percentage_searched = aspercent(test[test['search_conducted'] == True]['subject_race'].value_counts(normalize=True),decimals=2).to_dict()"
   ]
  },
  {
   "cell_type": "code",
   "execution_count": 37,
   "metadata": {},
   "outputs": [
    {
     "data": {
      "text/html": [
       "<style type=\"text/css\">\n",
       "#T_1a44d caption {\n",
       "  color: Black;\n",
       "  font-size: 15px;\n",
       "  font-style: italic;\n",
       "  font-weight: bold;\n",
       "  text-align: center;\n",
       "}\n",
       "</style>\n",
       "<table id=\"T_1a44d\">\n",
       "  <caption>Demographic Parity Fairness: Searched</caption>\n",
       "  <thead>\n",
       "    <tr>\n",
       "      <th class=\"blank level0\" >&nbsp;</th>\n",
       "      <th id=\"T_1a44d_level0_col0\" class=\"col_heading level0 col0\" >Total # of Stops</th>\n",
       "      <th id=\"T_1a44d_level0_col1\" class=\"col_heading level0 col1\" >Percent of Stops</th>\n",
       "      <th id=\"T_1a44d_level0_col2\" class=\"col_heading level0 col2\" ># of Searched</th>\n",
       "      <th id=\"T_1a44d_level0_col3\" class=\"col_heading level0 col3\" >Percent of Searched</th>\n",
       "    </tr>\n",
       "    <tr>\n",
       "      <th class=\"index_name level0\" >Race</th>\n",
       "      <th class=\"blank col0\" >&nbsp;</th>\n",
       "      <th class=\"blank col1\" >&nbsp;</th>\n",
       "      <th class=\"blank col2\" >&nbsp;</th>\n",
       "      <th class=\"blank col3\" >&nbsp;</th>\n",
       "    </tr>\n",
       "  </thead>\n",
       "  <tbody>\n",
       "    <tr>\n",
       "      <th id=\"T_1a44d_level0_row0\" class=\"row_heading level0 row0\" >white</th>\n",
       "      <td id=\"T_1a44d_row0_col0\" class=\"data row0 col0\" >162226.000000</td>\n",
       "      <td id=\"T_1a44d_row0_col1\" class=\"data row0 col1\" >0.424906</td>\n",
       "      <td id=\"T_1a44d_row0_col2\" class=\"data row0 col2\" >4510.000000</td>\n",
       "      <td id=\"T_1a44d_row0_col3\" class=\"data row0 col3\" >0.277624</td>\n",
       "    </tr>\n",
       "    <tr>\n",
       "      <th id=\"T_1a44d_level0_row1\" class=\"row_heading level0 row1\" >hispanic</th>\n",
       "      <td id=\"T_1a44d_row1_col0\" class=\"data row1 col0\" >117083.000000</td>\n",
       "      <td id=\"T_1a44d_row1_col1\" class=\"data row1 col1\" >0.306666</td>\n",
       "      <td id=\"T_1a44d_row1_col2\" class=\"data row1 col2\" >6501.000000</td>\n",
       "      <td id=\"T_1a44d_row1_col3\" class=\"data row1 col3\" >0.400185</td>\n",
       "    </tr>\n",
       "    <tr>\n",
       "      <th id=\"T_1a44d_level0_row2\" class=\"row_heading level0 row2\" >black</th>\n",
       "      <td id=\"T_1a44d_row2_col0\" class=\"data row2 col0\" >42705.000000</td>\n",
       "      <td id=\"T_1a44d_row2_col1\" class=\"data row2 col1\" >0.111854</td>\n",
       "      <td id=\"T_1a44d_row2_col2\" class=\"data row2 col2\" >3873.000000</td>\n",
       "      <td id=\"T_1a44d_row2_col3\" class=\"data row2 col3\" >0.238412</td>\n",
       "    </tr>\n",
       "    <tr>\n",
       "      <th id=\"T_1a44d_level0_row3\" class=\"row_heading level0 row3\" >asian/pacific islander</th>\n",
       "      <td id=\"T_1a44d_row3_col0\" class=\"data row3 col0\" >32541.000000</td>\n",
       "      <td id=\"T_1a44d_row3_col1\" class=\"data row3 col1\" >0.085232</td>\n",
       "      <td id=\"T_1a44d_row3_col2\" class=\"data row3 col2\" >910.000000</td>\n",
       "      <td id=\"T_1a44d_row3_col3\" class=\"data row3 col3\" >0.056017</td>\n",
       "    </tr>\n",
       "    <tr>\n",
       "      <th id=\"T_1a44d_level0_row4\" class=\"row_heading level0 row4\" >other</th>\n",
       "      <td id=\"T_1a44d_row4_col0\" class=\"data row4 col0\" >27238.000000</td>\n",
       "      <td id=\"T_1a44d_row4_col1\" class=\"data row4 col1\" >0.071342</td>\n",
       "      <td id=\"T_1a44d_row4_col2\" class=\"data row4 col2\" >451.000000</td>\n",
       "      <td id=\"T_1a44d_row4_col3\" class=\"data row4 col3\" >0.027762</td>\n",
       "    </tr>\n",
       "  </tbody>\n",
       "</table>\n"
      ],
      "text/plain": [
       "<pandas.io.formats.style.Styler at 0x7fcf40240e80>"
      ]
     },
     "execution_count": 37,
     "metadata": {},
     "output_type": "execute_result"
    }
   ],
   "source": [
    "searched = pd.DataFrame([demographic_groups, percentage_of_groups, searched_groups, percentage_searched],index=['Total # of Stops', 'Percent of Stops', '# of Searched', 'Percent of Searched']).T\n",
    "index = searched.index\n",
    "index.name = \"Race\"\n",
    "searched.style.set_caption('Demographic Parity Fairness: Searched').set_table_styles([{\n",
    "    'selector': 'caption',\n",
    "    'props': [\n",
    "        ('color', 'Black'),\n",
    "        ('font-size', '15px'),\n",
    "        ('font-style', 'italic'),\n",
    "        ('font-weight', 'bold'),\n",
    "        ('text-align', 'center')\n",
    "    ]\n",
    "}])"
   ]
  },
  {
   "cell_type": "code",
   "execution_count": 107,
   "metadata": {},
   "outputs": [
    {
     "data": {
      "text/plain": [
       "Text(0.5, 1.0, 'Distribution of Stops and Searches per Race')"
      ]
     },
     "execution_count": 107,
     "metadata": {},
     "output_type": "execute_result"
    },
    {
     "data": {
      "image/png": "[encoded data removed]",
      "text/plain": [
       "<Figure size 432x288 with 1 Axes>"
      ]
     },
     "metadata": {
      "needs_background": "light"
     },
     "output_type": "display_data"
    }
   ],
   "source": [
    "ax = searched.plot(y=\"Total # of Stops\", use_index=True , kind=\"bar\", color='lavender')\n",
    "searched.plot(y=\"# of Searched\", kind=\"bar\", ax=ax, color=\"plum\")\n",
    "plt.xlabel(\"Race\")\n",
    "plt.ylabel('Number of people')\n",
    "plt.title(\"Distribution of Stops and Searches per Race\", fontdict={'fontsize': 10, 'fontweight':'bold'})"
   ]
  },
  {
   "cell_type": "code",
   "execution_count": 94,
   "metadata": {},
   "outputs": [
    {
     "data": {
      "text/plain": [
       "Text(0.5, 1.0, 'Comparison between Percentage of Stops and Searches per Race')"
      ]
     },
     "execution_count": 94,
     "metadata": {},
     "output_type": "execute_result"
    },
    {
     "data": {
      "image/png": "[encoded data removed]",
      "text/plain": [
       "<Figure size 432x288 with 1 Axes>"
      ]
     },
     "metadata": {
      "needs_background": "light"
     },
     "output_type": "display_data"
    }
   ],
   "source": [
    "searched.plot(y= ['Percent of Stops',\"Percent of Searched\"], use_index=True, kind='bar', color =['paleturquoise','teal'])\n",
    "plt.xlabel(\"Race\")\n",
    "plt.ylabel('Percentages')\n",
    "plt.title(\"Comparison between Percentage of Stops and Searches per Race\", fontdict={'fontsize': 9, 'fontweight':'bold'})"
   ]
  },
  {
   "cell_type": "code",
   "execution_count": 117,
   "metadata": {},
   "outputs": [
    {
     "data": {
      "text/plain": [
       "{'hispanic': 2683,\n",
       " 'white': 2097,\n",
       " 'black': 2008,\n",
       " 'asian/pacific islander': 464,\n",
       " 'other': 158}"
      ]
     },
     "execution_count": 117,
     "metadata": {},
     "output_type": "execute_result"
    }
   ],
   "source": [
    "searched_person_groups = test[test['search_person'] == True]['subject_race'].value_counts().to_dict()\n",
    "searched_person_groups"
   ]
  },
  {
   "cell_type": "code",
   "execution_count": 118,
   "metadata": {},
   "outputs": [
    {
     "data": {
      "text/plain": [
       "{'hispanic': 0.3620782726045884,\n",
       " 'white': 0.28299595141700407,\n",
       " 'black': 0.2709851551956815,\n",
       " 'asian/pacific islander': 0.06261808367071525,\n",
       " 'other': 0.021322537112010796}"
      ]
     },
     "execution_count": 118,
     "metadata": {},
     "output_type": "execute_result"
    }
   ],
   "source": [
    "percentage_searched_person = aspercent(test[test['search_person'] == True]['subject_race'].value_counts(normalize=True),decimals=2).to_dict()\n",
    "percentage_searched_person"
   ]
  },
  {
   "cell_type": "code",
   "execution_count": 124,
   "metadata": {},
   "outputs": [
    {
     "data": {
      "text/html": [
       "<style type=\"text/css\">\n",
       "#T_a292d caption {\n",
       "  color: Black;\n",
       "  font-size: 15px;\n",
       "  font-style: italic;\n",
       "  font-weight: bold;\n",
       "  text-align: center;\n",
       "}\n",
       "</style>\n",
       "<table id=\"T_a292d\">\n",
       "  <caption>Demographic Parity Fairness: Searched (Person)</caption>\n",
       "  <thead>\n",
       "    <tr>\n",
       "      <th class=\"blank level0\" >&nbsp;</th>\n",
       "      <th id=\"T_a292d_level0_col0\" class=\"col_heading level0 col0\" >Total # of Stops</th>\n",
       "      <th id=\"T_a292d_level0_col1\" class=\"col_heading level0 col1\" >Percent of Stops</th>\n",
       "      <th id=\"T_a292d_level0_col2\" class=\"col_heading level0 col2\" ># of Searched (Person)</th>\n",
       "      <th id=\"T_a292d_level0_col3\" class=\"col_heading level0 col3\" >Percent of Searched (Person)</th>\n",
       "    </tr>\n",
       "    <tr>\n",
       "      <th class=\"index_name level0\" >Race</th>\n",
       "      <th class=\"blank col0\" >&nbsp;</th>\n",
       "      <th class=\"blank col1\" >&nbsp;</th>\n",
       "      <th class=\"blank col2\" >&nbsp;</th>\n",
       "      <th class=\"blank col3\" >&nbsp;</th>\n",
       "    </tr>\n",
       "  </thead>\n",
       "  <tbody>\n",
       "    <tr>\n",
       "      <th id=\"T_a292d_level0_row0\" class=\"row_heading level0 row0\" >white</th>\n",
       "      <td id=\"T_a292d_row0_col0\" class=\"data row0 col0\" >162226.000000</td>\n",
       "      <td id=\"T_a292d_row0_col1\" class=\"data row0 col1\" >0.424906</td>\n",
       "      <td id=\"T_a292d_row0_col2\" class=\"data row0 col2\" >2097.000000</td>\n",
       "      <td id=\"T_a292d_row0_col3\" class=\"data row0 col3\" >0.282996</td>\n",
       "    </tr>\n",
       "    <tr>\n",
       "      <th id=\"T_a292d_level0_row1\" class=\"row_heading level0 row1\" >hispanic</th>\n",
       "      <td id=\"T_a292d_row1_col0\" class=\"data row1 col0\" >117083.000000</td>\n",
       "      <td id=\"T_a292d_row1_col1\" class=\"data row1 col1\" >0.306666</td>\n",
       "      <td id=\"T_a292d_row1_col2\" class=\"data row1 col2\" >2683.000000</td>\n",
       "      <td id=\"T_a292d_row1_col3\" class=\"data row1 col3\" >0.362078</td>\n",
       "    </tr>\n",
       "    <tr>\n",
       "      <th id=\"T_a292d_level0_row2\" class=\"row_heading level0 row2\" >black</th>\n",
       "      <td id=\"T_a292d_row2_col0\" class=\"data row2 col0\" >42705.000000</td>\n",
       "      <td id=\"T_a292d_row2_col1\" class=\"data row2 col1\" >0.111854</td>\n",
       "      <td id=\"T_a292d_row2_col2\" class=\"data row2 col2\" >2008.000000</td>\n",
       "      <td id=\"T_a292d_row2_col3\" class=\"data row2 col3\" >0.270985</td>\n",
       "    </tr>\n",
       "    <tr>\n",
       "      <th id=\"T_a292d_level0_row3\" class=\"row_heading level0 row3\" >asian/pacific islander</th>\n",
       "      <td id=\"T_a292d_row3_col0\" class=\"data row3 col0\" >32541.000000</td>\n",
       "      <td id=\"T_a292d_row3_col1\" class=\"data row3 col1\" >0.085232</td>\n",
       "      <td id=\"T_a292d_row3_col2\" class=\"data row3 col2\" >464.000000</td>\n",
       "      <td id=\"T_a292d_row3_col3\" class=\"data row3 col3\" >0.062618</td>\n",
       "    </tr>\n",
       "    <tr>\n",
       "      <th id=\"T_a292d_level0_row4\" class=\"row_heading level0 row4\" >other</th>\n",
       "      <td id=\"T_a292d_row4_col0\" class=\"data row4 col0\" >27238.000000</td>\n",
       "      <td id=\"T_a292d_row4_col1\" class=\"data row4 col1\" >0.071342</td>\n",
       "      <td id=\"T_a292d_row4_col2\" class=\"data row4 col2\" >158.000000</td>\n",
       "      <td id=\"T_a292d_row4_col3\" class=\"data row4 col3\" >0.021323</td>\n",
       "    </tr>\n",
       "  </tbody>\n",
       "</table>\n"
      ],
      "text/plain": [
       "<pandas.io.formats.style.Styler at 0x7fc7388b9670>"
      ]
     },
     "execution_count": 124,
     "metadata": {},
     "output_type": "execute_result"
    }
   ],
   "source": [
    "searched_person = pd.DataFrame([demographic_groups, percentage_of_groups, searched_person_groups, percentage_searched_person],index=['Total # of Stops', 'Percent of Stops', '# of Searched (Person)', 'Percent of Searched (Person)']).T\n",
    "index = searched_person.index\n",
    "index.name = \"Race\"\n",
    "searched_person.style.set_caption('Demographic Parity Fairness: Searched (Person)').set_table_styles([{\n",
    "    'selector': 'caption',\n",
    "    'props': [\n",
    "        ('color', 'Black'),\n",
    "        ('font-size', '15px'),\n",
    "        ('font-style', 'italic'),\n",
    "        ('font-weight', 'bold'),\n",
    "        ('text-align', 'center')\n",
    "    ]\n",
    "}])"
   ]
  },
  {
   "cell_type": "code",
   "execution_count": 111,
   "metadata": {},
   "outputs": [
    {
     "data": {
      "text/plain": [
       "Text(0.5, 1.0, 'Distribution of Stops and Searches (Person) per Race')"
      ]
     },
     "execution_count": 111,
     "metadata": {},
     "output_type": "execute_result"
    },
    {
     "data": {
      "image/png": "[encoded data removed]",
      "text/plain": [
       "<Figure size 432x288 with 1 Axes>"
      ]
     },
     "metadata": {
      "needs_background": "light"
     },
     "output_type": "display_data"
    }
   ],
   "source": [
    "ax = searched_person.plot(y=\"Total # of Stops\", use_index=True , kind=\"bar\", color='lavender')\n",
    "searched_person.plot(y=\"# of Searched (Person)\", kind=\"bar\", ax=ax, color=\"plum\")\n",
    "plt.xlabel(\"Race\")\n",
    "plt.ylabel('Number of people')\n",
    "plt.title(\"Distribution of Stops and Searches (Person) per Race\", fontdict={'fontsize': 10, 'fontweight':'bold'})"
   ]
  },
  {
   "cell_type": "code",
   "execution_count": 125,
   "metadata": {},
   "outputs": [
    {
     "data": {
      "text/plain": [
       "Text(0.5, 1.0, 'Comparison between Percentage of Stops and Searches (Person) per Race')"
      ]
     },
     "execution_count": 125,
     "metadata": {},
     "output_type": "execute_result"
    },
    {
     "data": {
      "image/png": "[encoded data removed]",
      "text/plain": [
       "<Figure size 432x288 with 1 Axes>"
      ]
     },
     "metadata": {
      "needs_background": "light"
     },
     "output_type": "display_data"
    }
   ],
   "source": [
    "searched_person.plot(y= ['Percent of Stops',\"Percent of Searched (Person)\"], use_index=True, kind='bar', color =['paleturquoise','teal'])\n",
    "plt.xlabel(\"Race\")\n",
    "plt.ylabel('Percentages')\n",
    "plt.title(\"Comparison between Percentage of Stops and Searches (Person) per Race\", fontdict={'fontsize': 9, 'fontweight':'bold'})"
   ]
  },
  {
   "cell_type": "code",
   "execution_count": 126,
   "metadata": {},
   "outputs": [
    {
     "data": {
      "text/plain": [
       "{'hispanic': 4326,\n",
       " 'white': 2509,\n",
       " 'black': 2444,\n",
       " 'asian/pacific islander': 534,\n",
       " 'other': 279}"
      ]
     },
     "execution_count": 126,
     "metadata": {},
     "output_type": "execute_result"
    }
   ],
   "source": [
    "searched_vehicle_groups = test[test['search_vehicle'] == True]['subject_race'].value_counts().to_dict()\n",
    "searched_vehicle_groups"
   ]
  },
  {
   "cell_type": "code",
   "execution_count": 127,
   "metadata": {},
   "outputs": [
    {
     "data": {
      "text/plain": [
       "{'hispanic': 0.4286563614744352,\n",
       " 'white': 0.24861276258422513,\n",
       " 'black': 0.24217201743955608,\n",
       " 'asian/pacific islander': 0.05291319857312723,\n",
       " 'other': 0.027645659928656363}"
      ]
     },
     "execution_count": 127,
     "metadata": {},
     "output_type": "execute_result"
    }
   ],
   "source": [
    "percentage_searched_vehicle = aspercent(test[test['search_vehicle'] == True]['subject_race'].value_counts(normalize=True),decimals=2).to_dict()\n",
    "percentage_searched_vehicle"
   ]
  },
  {
   "cell_type": "code",
   "execution_count": 128,
   "metadata": {
    "scrolled": true
   },
   "outputs": [
    {
     "data": {
      "text/html": [
       "<style type=\"text/css\">\n",
       "#T_07c3f caption {\n",
       "  color: Black;\n",
       "  font-size: 15px;\n",
       "  font-style: italic;\n",
       "  font-weight: bold;\n",
       "  text-align: center;\n",
       "}\n",
       "</style>\n",
       "<table id=\"T_07c3f\">\n",
       "  <caption>Demographic Parity Fairness: Searched (Vehicles)</caption>\n",
       "  <thead>\n",
       "    <tr>\n",
       "      <th class=\"blank level0\" >&nbsp;</th>\n",
       "      <th id=\"T_07c3f_level0_col0\" class=\"col_heading level0 col0\" >Total # of Stops</th>\n",
       "      <th id=\"T_07c3f_level0_col1\" class=\"col_heading level0 col1\" >Percent of Stops</th>\n",
       "      <th id=\"T_07c3f_level0_col2\" class=\"col_heading level0 col2\" ># of Searched (Vehicles)</th>\n",
       "      <th id=\"T_07c3f_level0_col3\" class=\"col_heading level0 col3\" >Percent of Searched (Vehicles)</th>\n",
       "    </tr>\n",
       "    <tr>\n",
       "      <th class=\"index_name level0\" >Race</th>\n",
       "      <th class=\"blank col0\" >&nbsp;</th>\n",
       "      <th class=\"blank col1\" >&nbsp;</th>\n",
       "      <th class=\"blank col2\" >&nbsp;</th>\n",
       "      <th class=\"blank col3\" >&nbsp;</th>\n",
       "    </tr>\n",
       "  </thead>\n",
       "  <tbody>\n",
       "    <tr>\n",
       "      <th id=\"T_07c3f_level0_row0\" class=\"row_heading level0 row0\" >white</th>\n",
       "      <td id=\"T_07c3f_row0_col0\" class=\"data row0 col0\" >162226.000000</td>\n",
       "      <td id=\"T_07c3f_row0_col1\" class=\"data row0 col1\" >0.424906</td>\n",
       "      <td id=\"T_07c3f_row0_col2\" class=\"data row0 col2\" >2509.000000</td>\n",
       "      <td id=\"T_07c3f_row0_col3\" class=\"data row0 col3\" >0.248613</td>\n",
       "    </tr>\n",
       "    <tr>\n",
       "      <th id=\"T_07c3f_level0_row1\" class=\"row_heading level0 row1\" >hispanic</th>\n",
       "      <td id=\"T_07c3f_row1_col0\" class=\"data row1 col0\" >117083.000000</td>\n",
       "      <td id=\"T_07c3f_row1_col1\" class=\"data row1 col1\" >0.306666</td>\n",
       "      <td id=\"T_07c3f_row1_col2\" class=\"data row1 col2\" >4326.000000</td>\n",
       "      <td id=\"T_07c3f_row1_col3\" class=\"data row1 col3\" >0.428656</td>\n",
       "    </tr>\n",
       "    <tr>\n",
       "      <th id=\"T_07c3f_level0_row2\" class=\"row_heading level0 row2\" >black</th>\n",
       "      <td id=\"T_07c3f_row2_col0\" class=\"data row2 col0\" >42705.000000</td>\n",
       "      <td id=\"T_07c3f_row2_col1\" class=\"data row2 col1\" >0.111854</td>\n",
       "      <td id=\"T_07c3f_row2_col2\" class=\"data row2 col2\" >2444.000000</td>\n",
       "      <td id=\"T_07c3f_row2_col3\" class=\"data row2 col3\" >0.242172</td>\n",
       "    </tr>\n",
       "    <tr>\n",
       "      <th id=\"T_07c3f_level0_row3\" class=\"row_heading level0 row3\" >asian/pacific islander</th>\n",
       "      <td id=\"T_07c3f_row3_col0\" class=\"data row3 col0\" >32541.000000</td>\n",
       "      <td id=\"T_07c3f_row3_col1\" class=\"data row3 col1\" >0.085232</td>\n",
       "      <td id=\"T_07c3f_row3_col2\" class=\"data row3 col2\" >534.000000</td>\n",
       "      <td id=\"T_07c3f_row3_col3\" class=\"data row3 col3\" >0.052913</td>\n",
       "    </tr>\n",
       "    <tr>\n",
       "      <th id=\"T_07c3f_level0_row4\" class=\"row_heading level0 row4\" >other</th>\n",
       "      <td id=\"T_07c3f_row4_col0\" class=\"data row4 col0\" >27238.000000</td>\n",
       "      <td id=\"T_07c3f_row4_col1\" class=\"data row4 col1\" >0.071342</td>\n",
       "      <td id=\"T_07c3f_row4_col2\" class=\"data row4 col2\" >279.000000</td>\n",
       "      <td id=\"T_07c3f_row4_col3\" class=\"data row4 col3\" >0.027646</td>\n",
       "    </tr>\n",
       "  </tbody>\n",
       "</table>\n"
      ],
      "text/plain": [
       "<pandas.io.formats.style.Styler at 0x7fc736aeeeb0>"
      ]
     },
     "execution_count": 128,
     "metadata": {},
     "output_type": "execute_result"
    }
   ],
   "source": [
    "searched_vehicle =pd.DataFrame([demographic_groups, percentage_of_groups, searched_vehicle_groups, percentage_searched_vehicle],index=['Total # of Stops', 'Percent of Stops', '# of Searched (Vehicles)', 'Percent of Searched (Vehicles)']).T\n",
    "index = searched_vehicle.index\n",
    "index.name = \"Race\"\n",
    "searched_vehicle.style.set_caption('Demographic Parity Fairness: Searched (Vehicles)').set_table_styles([{\n",
    "    'selector': 'caption',\n",
    "    'props': [\n",
    "        ('color', 'Black'),\n",
    "        ('font-size', '15px'),\n",
    "        ('font-style', 'italic'),\n",
    "        ('font-weight', 'bold'),\n",
    "        ('text-align', 'center')\n",
    "    ]\n",
    "}])"
   ]
  },
  {
   "cell_type": "code",
   "execution_count": 129,
   "metadata": {},
   "outputs": [
    {
     "data": {
      "text/plain": [
       "Text(0.5, 1.0, 'Distribution of Stops and Searches (Vehicles) per Race')"
      ]
     },
     "execution_count": 129,
     "metadata": {},
     "output_type": "execute_result"
    },
    {
     "data": {
      "image/png": "[encoded data removed]",
      "text/plain": [
       "<Figure size 432x288 with 1 Axes>"
      ]
     },
     "metadata": {
      "needs_background": "light"
     },
     "output_type": "display_data"
    }
   ],
   "source": [
    "ax = searched_vehicle.plot(y=\"Total # of Stops\", use_index=True , kind=\"bar\", color='lavender')\n",
    "searched_vehicle.plot(y=\"# of Searched (Vehicles)\", kind=\"bar\", ax=ax, color=\"plum\")\n",
    "plt.xlabel(\"Race\")\n",
    "plt.ylabel('Number of people')\n",
    "plt.title(\"Distribution of Stops and Searches (Vehicles) per Race\", fontdict={'fontsize': 10, 'fontweight':'bold'})"
   ]
  },
  {
   "cell_type": "code",
   "execution_count": 130,
   "metadata": {},
   "outputs": [
    {
     "data": {
      "text/plain": [
       "Text(0.5, 1.0, 'Comparison between Percentage of Stops and Searches (Vehicles) per Race')"
      ]
     },
     "execution_count": 130,
     "metadata": {},
     "output_type": "execute_result"
    },
    {
     "data": {
      "image/png": "[encoded data removed]",
      "text/plain": [
       "<Figure size 432x288 with 1 Axes>"
      ]
     },
     "metadata": {
      "needs_background": "light"
     },
     "output_type": "display_data"
    }
   ],
   "source": [
    "searched_vehicle.plot(y= ['Percent of Stops',\"Percent of Searched (Vehicles)\"], use_index=True, kind='bar', color =['paleturquoise','teal'])\n",
    "plt.xlabel(\"Race\")\n",
    "plt.ylabel('Percentages')\n",
    "plt.title(\"Comparison between Percentage of Stops and Searches (Vehicles) per Race\", fontdict={'fontsize': 9, 'fontweight':'bold'})"
   ]
  },
  {
   "cell_type": "code",
   "execution_count": 131,
   "metadata": {},
   "outputs": [
    {
     "data": {
      "text/plain": [
       "{'white': 1771,\n",
       " 'hispanic': 1714,\n",
       " 'black': 857,\n",
       " 'asian/pacific islander': 309,\n",
       " 'other': 160}"
      ]
     },
     "execution_count": 131,
     "metadata": {},
     "output_type": "execute_result"
    }
   ],
   "source": [
    "arrested_groups = test[test['arrest_made'] == True]['subject_race'].value_counts().to_dict()\n",
    "arrested_groups"
   ]
  },
  {
   "cell_type": "code",
   "execution_count": 132,
   "metadata": {},
   "outputs": [
    {
     "data": {
      "text/plain": [
       "{'white': 0.3681147370609021,\n",
       " 'hispanic': 0.356266888380794,\n",
       " 'black': 0.178133444190397,\n",
       " 'asian/pacific islander': 0.0642278112658491,\n",
       " 'other': 0.03325711910205779}"
      ]
     },
     "execution_count": 132,
     "metadata": {},
     "output_type": "execute_result"
    }
   ],
   "source": [
    "percentage_arrested = aspercent(test[test['arrest_made'] == True]['subject_race'].value_counts(normalize=True),decimals=2).to_dict()\n",
    "percentage_arrested"
   ]
  },
  {
   "cell_type": "code",
   "execution_count": 133,
   "metadata": {},
   "outputs": [
    {
     "data": {
      "text/html": [
       "<style type=\"text/css\">\n",
       "#T_3a8df caption {\n",
       "  color: Black;\n",
       "  font-size: 15px;\n",
       "  font-style: italic;\n",
       "  font-weight: bold;\n",
       "  text-align: center;\n",
       "}\n",
       "</style>\n",
       "<table id=\"T_3a8df\">\n",
       "  <caption>Demographic Parity Fairness: Arrested</caption>\n",
       "  <thead>\n",
       "    <tr>\n",
       "      <th class=\"blank level0\" >&nbsp;</th>\n",
       "      <th id=\"T_3a8df_level0_col0\" class=\"col_heading level0 col0\" >Total # of Stops</th>\n",
       "      <th id=\"T_3a8df_level0_col1\" class=\"col_heading level0 col1\" >Percent of Stops</th>\n",
       "      <th id=\"T_3a8df_level0_col2\" class=\"col_heading level0 col2\" ># of Arrested</th>\n",
       "      <th id=\"T_3a8df_level0_col3\" class=\"col_heading level0 col3\" >Percent of Arrested</th>\n",
       "    </tr>\n",
       "    <tr>\n",
       "      <th class=\"index_name level0\" >Race</th>\n",
       "      <th class=\"blank col0\" >&nbsp;</th>\n",
       "      <th class=\"blank col1\" >&nbsp;</th>\n",
       "      <th class=\"blank col2\" >&nbsp;</th>\n",
       "      <th class=\"blank col3\" >&nbsp;</th>\n",
       "    </tr>\n",
       "  </thead>\n",
       "  <tbody>\n",
       "    <tr>\n",
       "      <th id=\"T_3a8df_level0_row0\" class=\"row_heading level0 row0\" >white</th>\n",
       "      <td id=\"T_3a8df_row0_col0\" class=\"data row0 col0\" >162226.000000</td>\n",
       "      <td id=\"T_3a8df_row0_col1\" class=\"data row0 col1\" >0.424906</td>\n",
       "      <td id=\"T_3a8df_row0_col2\" class=\"data row0 col2\" >1771.000000</td>\n",
       "      <td id=\"T_3a8df_row0_col3\" class=\"data row0 col3\" >0.368115</td>\n",
       "    </tr>\n",
       "    <tr>\n",
       "      <th id=\"T_3a8df_level0_row1\" class=\"row_heading level0 row1\" >hispanic</th>\n",
       "      <td id=\"T_3a8df_row1_col0\" class=\"data row1 col0\" >117083.000000</td>\n",
       "      <td id=\"T_3a8df_row1_col1\" class=\"data row1 col1\" >0.306666</td>\n",
       "      <td id=\"T_3a8df_row1_col2\" class=\"data row1 col2\" >1714.000000</td>\n",
       "      <td id=\"T_3a8df_row1_col3\" class=\"data row1 col3\" >0.356267</td>\n",
       "    </tr>\n",
       "    <tr>\n",
       "      <th id=\"T_3a8df_level0_row2\" class=\"row_heading level0 row2\" >black</th>\n",
       "      <td id=\"T_3a8df_row2_col0\" class=\"data row2 col0\" >42705.000000</td>\n",
       "      <td id=\"T_3a8df_row2_col1\" class=\"data row2 col1\" >0.111854</td>\n",
       "      <td id=\"T_3a8df_row2_col2\" class=\"data row2 col2\" >857.000000</td>\n",
       "      <td id=\"T_3a8df_row2_col3\" class=\"data row2 col3\" >0.178133</td>\n",
       "    </tr>\n",
       "    <tr>\n",
       "      <th id=\"T_3a8df_level0_row3\" class=\"row_heading level0 row3\" >asian/pacific islander</th>\n",
       "      <td id=\"T_3a8df_row3_col0\" class=\"data row3 col0\" >32541.000000</td>\n",
       "      <td id=\"T_3a8df_row3_col1\" class=\"data row3 col1\" >0.085232</td>\n",
       "      <td id=\"T_3a8df_row3_col2\" class=\"data row3 col2\" >309.000000</td>\n",
       "      <td id=\"T_3a8df_row3_col3\" class=\"data row3 col3\" >0.064228</td>\n",
       "    </tr>\n",
       "    <tr>\n",
       "      <th id=\"T_3a8df_level0_row4\" class=\"row_heading level0 row4\" >other</th>\n",
       "      <td id=\"T_3a8df_row4_col0\" class=\"data row4 col0\" >27238.000000</td>\n",
       "      <td id=\"T_3a8df_row4_col1\" class=\"data row4 col1\" >0.071342</td>\n",
       "      <td id=\"T_3a8df_row4_col2\" class=\"data row4 col2\" >160.000000</td>\n",
       "      <td id=\"T_3a8df_row4_col3\" class=\"data row4 col3\" >0.033257</td>\n",
       "    </tr>\n",
       "  </tbody>\n",
       "</table>\n"
      ],
      "text/plain": [
       "<pandas.io.formats.style.Styler at 0x7fc7360331f0>"
      ]
     },
     "execution_count": 133,
     "metadata": {},
     "output_type": "execute_result"
    }
   ],
   "source": [
    "arrested = pd.DataFrame([demographic_groups, percentage_of_groups, arrested_groups, percentage_arrested],index=['Total # of Stops', 'Percent of Stops', '# of Arrested', 'Percent of Arrested']).T\n",
    "index = arrested.index\n",
    "index.name = \"Race\"\n",
    "arrested.style.set_caption('Demographic Parity Fairness: Arrested').set_table_styles([{\n",
    "    'selector': 'caption',\n",
    "    'props': [\n",
    "        ('color', 'Black'),\n",
    "        ('font-size', '15px'),\n",
    "        ('font-style', 'italic'),\n",
    "        ('font-weight', 'bold'),\n",
    "        ('text-align', 'center')\n",
    "    ]\n",
    "}])"
   ]
  },
  {
   "cell_type": "code",
   "execution_count": 134,
   "metadata": {},
   "outputs": [
    {
     "data": {
      "text/plain": [
       "Text(0.5, 1.0, 'Distribution of Stops and Arrests per Race')"
      ]
     },
     "execution_count": 134,
     "metadata": {},
     "output_type": "execute_result"
    },
    {
     "data": {
      "image/png": "[encoded data removed]",
      "text/plain": [
       "<Figure size 432x288 with 1 Axes>"
      ]
     },
     "metadata": {
      "needs_background": "light"
     },
     "output_type": "display_data"
    }
   ],
   "source": [
    "ax = arrested.plot(y=\"Total # of Stops\", use_index=True , kind=\"bar\", color='lavender')\n",
    "arrested.plot(y=\"# of Arrested\", kind=\"bar\", ax=ax, color=\"plum\")\n",
    "plt.xlabel(\"Race\")\n",
    "plt.ylabel('Number of people')\n",
    "plt.title(\"Distribution of Stops and Arrests per Race\", fontdict={'fontsize': 10, 'fontweight':'bold'})"
   ]
  },
  {
   "cell_type": "code",
   "execution_count": 135,
   "metadata": {},
   "outputs": [
    {
     "data": {
      "text/plain": [
       "Text(0.5, 1.0, 'Comparison between Percentage of Stops and Arrests per Race')"
      ]
     },
     "execution_count": 135,
     "metadata": {},
     "output_type": "execute_result"
    },
    {
     "data": {
      "image/png": "[encoded data removed]",
      "text/plain": [
       "<Figure size 432x288 with 1 Axes>"
      ]
     },
     "metadata": {
      "needs_background": "light"
     },
     "output_type": "display_data"
    }
   ],
   "source": [
    "arrested.plot(y= ['Percent of Stops',\"Percent of Arrested\"], use_index=True, kind='bar', color =['paleturquoise','teal'])\n",
    "plt.xlabel(\"Race\")\n",
    "plt.ylabel('Percentages')\n",
    "plt.title(\"Comparison between Percentage of Stops and Arrests per Race\", fontdict={'fontsize': 9, 'fontweight':'bold'})"
   ]
  },
  {
   "cell_type": "code",
   "execution_count": 136,
   "metadata": {},
   "outputs": [
    {
     "data": {
      "text/plain": [
       "{'white': 96631,\n",
       " 'hispanic': 67787,\n",
       " 'black': 20728,\n",
       " 'asian/pacific islander': 17896,\n",
       " 'other': 17359}"
      ]
     },
     "execution_count": 136,
     "metadata": {},
     "output_type": "execute_result"
    }
   ],
   "source": [
    "citation_groups = test[test['citation_issued'] == True]['subject_race'].value_counts().to_dict()\n",
    "citation_groups"
   ]
  },
  {
   "cell_type": "code",
   "execution_count": 137,
   "metadata": {},
   "outputs": [
    {
     "data": {
      "text/plain": [
       "{'white': 0.43843267498786304,\n",
       " 'hispanic': 0.3075621253987051,\n",
       " 'black': 0.09404676022341096,\n",
       " 'asian/pacific islander': 0.08119745373206111,\n",
       " 'other': 0.0787609856579598}"
      ]
     },
     "execution_count": 137,
     "metadata": {},
     "output_type": "execute_result"
    }
   ],
   "source": [
    "percentage_citation = aspercent(test[test['citation_issued'] == True]['subject_race'].value_counts(normalize=True),decimals=2).to_dict()\n",
    "percentage_citation"
   ]
  },
  {
   "cell_type": "code",
   "execution_count": 138,
   "metadata": {},
   "outputs": [
    {
     "data": {
      "text/html": [
       "<style type=\"text/css\">\n",
       "#T_5ed76 caption {\n",
       "  color: Black;\n",
       "  font-size: 15px;\n",
       "  font-style: italic;\n",
       "  font-weight: bold;\n",
       "  text-align: center;\n",
       "}\n",
       "</style>\n",
       "<table id=\"T_5ed76\">\n",
       "  <caption>Demographic Parity Fairness: Citations Issued</caption>\n",
       "  <thead>\n",
       "    <tr>\n",
       "      <th class=\"blank level0\" >&nbsp;</th>\n",
       "      <th id=\"T_5ed76_level0_col0\" class=\"col_heading level0 col0\" >Total # of Stops</th>\n",
       "      <th id=\"T_5ed76_level0_col1\" class=\"col_heading level0 col1\" >Percent of Stops</th>\n",
       "      <th id=\"T_5ed76_level0_col2\" class=\"col_heading level0 col2\" ># of Citations Issued</th>\n",
       "      <th id=\"T_5ed76_level0_col3\" class=\"col_heading level0 col3\" >Percent of Citations Issued</th>\n",
       "    </tr>\n",
       "    <tr>\n",
       "      <th class=\"index_name level0\" >Race</th>\n",
       "      <th class=\"blank col0\" >&nbsp;</th>\n",
       "      <th class=\"blank col1\" >&nbsp;</th>\n",
       "      <th class=\"blank col2\" >&nbsp;</th>\n",
       "      <th class=\"blank col3\" >&nbsp;</th>\n",
       "    </tr>\n",
       "  </thead>\n",
       "  <tbody>\n",
       "    <tr>\n",
       "      <th id=\"T_5ed76_level0_row0\" class=\"row_heading level0 row0\" >white</th>\n",
       "      <td id=\"T_5ed76_row0_col0\" class=\"data row0 col0\" >162226.000000</td>\n",
       "      <td id=\"T_5ed76_row0_col1\" class=\"data row0 col1\" >0.424906</td>\n",
       "      <td id=\"T_5ed76_row0_col2\" class=\"data row0 col2\" >96631.000000</td>\n",
       "      <td id=\"T_5ed76_row0_col3\" class=\"data row0 col3\" >0.438433</td>\n",
       "    </tr>\n",
       "    <tr>\n",
       "      <th id=\"T_5ed76_level0_row1\" class=\"row_heading level0 row1\" >hispanic</th>\n",
       "      <td id=\"T_5ed76_row1_col0\" class=\"data row1 col0\" >117083.000000</td>\n",
       "      <td id=\"T_5ed76_row1_col1\" class=\"data row1 col1\" >0.306666</td>\n",
       "      <td id=\"T_5ed76_row1_col2\" class=\"data row1 col2\" >67787.000000</td>\n",
       "      <td id=\"T_5ed76_row1_col3\" class=\"data row1 col3\" >0.307562</td>\n",
       "    </tr>\n",
       "    <tr>\n",
       "      <th id=\"T_5ed76_level0_row2\" class=\"row_heading level0 row2\" >black</th>\n",
       "      <td id=\"T_5ed76_row2_col0\" class=\"data row2 col0\" >42705.000000</td>\n",
       "      <td id=\"T_5ed76_row2_col1\" class=\"data row2 col1\" >0.111854</td>\n",
       "      <td id=\"T_5ed76_row2_col2\" class=\"data row2 col2\" >20728.000000</td>\n",
       "      <td id=\"T_5ed76_row2_col3\" class=\"data row2 col3\" >0.094047</td>\n",
       "    </tr>\n",
       "    <tr>\n",
       "      <th id=\"T_5ed76_level0_row3\" class=\"row_heading level0 row3\" >asian/pacific islander</th>\n",
       "      <td id=\"T_5ed76_row3_col0\" class=\"data row3 col0\" >32541.000000</td>\n",
       "      <td id=\"T_5ed76_row3_col1\" class=\"data row3 col1\" >0.085232</td>\n",
       "      <td id=\"T_5ed76_row3_col2\" class=\"data row3 col2\" >17896.000000</td>\n",
       "      <td id=\"T_5ed76_row3_col3\" class=\"data row3 col3\" >0.081197</td>\n",
       "    </tr>\n",
       "    <tr>\n",
       "      <th id=\"T_5ed76_level0_row4\" class=\"row_heading level0 row4\" >other</th>\n",
       "      <td id=\"T_5ed76_row4_col0\" class=\"data row4 col0\" >27238.000000</td>\n",
       "      <td id=\"T_5ed76_row4_col1\" class=\"data row4 col1\" >0.071342</td>\n",
       "      <td id=\"T_5ed76_row4_col2\" class=\"data row4 col2\" >17359.000000</td>\n",
       "      <td id=\"T_5ed76_row4_col3\" class=\"data row4 col3\" >0.078761</td>\n",
       "    </tr>\n",
       "  </tbody>\n",
       "</table>\n"
      ],
      "text/plain": [
       "<pandas.io.formats.style.Styler at 0x7fc736519280>"
      ]
     },
     "execution_count": 138,
     "metadata": {},
     "output_type": "execute_result"
    }
   ],
   "source": [
    "citation = pd.DataFrame([demographic_groups, percentage_of_groups, citation_groups, percentage_citation],index=['Total # of Stops', 'Percent of Stops', '# of Citations Issued', 'Percent of Citations Issued']).T\n",
    "index = citation.index\n",
    "index.name = \"Race\"\n",
    "citation.style.set_caption('Demographic Parity Fairness: Citations Issued').set_table_styles([{\n",
    "    'selector': 'caption',\n",
    "    'props': [\n",
    "        ('color', 'Black'),\n",
    "        ('font-size', '15px'),\n",
    "        ('font-style', 'italic'),\n",
    "        ('font-weight', 'bold'),\n",
    "        ('text-align', 'center')\n",
    "    ]\n",
    "}])"
   ]
  },
  {
   "cell_type": "code",
   "execution_count": 139,
   "metadata": {},
   "outputs": [
    {
     "data": {
      "text/plain": [
       "Text(0.5, 1.0, 'Distribution of Stops and Citations Issued per Race')"
      ]
     },
     "execution_count": 139,
     "metadata": {},
     "output_type": "execute_result"
    },
    {
     "data": {
      "image/png": "[encoded data removed]",
      "text/plain": [
       "<Figure size 432x288 with 1 Axes>"
      ]
     },
     "metadata": {
      "needs_background": "light"
     },
     "output_type": "display_data"
    }
   ],
   "source": [
    "ax = citation.plot(y=\"Total # of Stops\", use_index=True , kind=\"bar\", color='lavender')\n",
    "citation.plot(y=\"# of Citations Issued\", kind=\"bar\", ax=ax, color=\"plum\")\n",
    "plt.xlabel(\"Race\")\n",
    "plt.ylabel('Number of people')\n",
    "plt.title(\"Distribution of Stops and Citations Issued per Race\", fontdict={'fontsize': 10, 'fontweight':'bold'})"
   ]
  },
  {
   "cell_type": "code",
   "execution_count": 140,
   "metadata": {},
   "outputs": [
    {
     "data": {
      "text/plain": [
       "Text(0.5, 1.0, 'Comparison between Percentage of Stops and Citations Issued per Race')"
      ]
     },
     "execution_count": 140,
     "metadata": {},
     "output_type": "execute_result"
    },
    {
     "data": {
      "image/png": "[encoded data removed]",
      "text/plain": [
       "<Figure size 432x288 with 1 Axes>"
      ]
     },
     "metadata": {
      "needs_background": "light"
     },
     "output_type": "display_data"
    }
   ],
   "source": [
    "citation.plot(y= ['Percent of Stops',\"Percent of Citations Issued\"], use_index=True, kind='bar', color =['paleturquoise','teal'])\n",
    "plt.xlabel(\"Race\")\n",
    "plt.ylabel('Percentages')\n",
    "plt.title(\"Comparison between Percentage of Stops and Citations Issued per Race\", fontdict={'fontsize': 9, 'fontweight':'bold'})"
   ]
  },
  {
   "cell_type": "code",
   "execution_count": 141,
   "metadata": {},
   "outputs": [
    {
     "data": {
      "text/plain": [
       "{'white': 50670,\n",
       " 'hispanic': 33863,\n",
       " 'black': 16780,\n",
       " 'asian/pacific islander': 11985,\n",
       " 'other': 7139}"
      ]
     },
     "execution_count": 141,
     "metadata": {},
     "output_type": "execute_result"
    }
   ],
   "source": [
    "warning_issued_groups = test[test['warning_issued'] == True]['subject_race'].value_counts().to_dict()\n",
    "warning_issued_groups"
   ]
  },
  {
   "cell_type": "code",
   "execution_count": 142,
   "metadata": {},
   "outputs": [
    {
     "data": {
      "text/plain": [
       "{'white': 0.42071788569957735,\n",
       " 'hispanic': 0.28116774745302525,\n",
       " 'black': 0.13932595464848843,\n",
       " 'asian/pacific islander': 0.09951260825161702,\n",
       " 'other': 0.05927580394729195}"
      ]
     },
     "execution_count": 142,
     "metadata": {},
     "output_type": "execute_result"
    }
   ],
   "source": [
    "percentage_warning_issued = aspercent(test[test['warning_issued'] == True]['subject_race'].value_counts(normalize=True),decimals=2).to_dict()\n",
    "percentage_warning_issued"
   ]
  },
  {
   "cell_type": "code",
   "execution_count": 143,
   "metadata": {},
   "outputs": [
    {
     "data": {
      "text/html": [
       "<style type=\"text/css\">\n",
       "#T_e6205 caption {\n",
       "  color: Black;\n",
       "  font-size: 15px;\n",
       "  font-style: italic;\n",
       "  font-weight: bold;\n",
       "  text-align: center;\n",
       "}\n",
       "</style>\n",
       "<table id=\"T_e6205\">\n",
       "  <caption>Demographic Parity Fairness: Warnings Issued</caption>\n",
       "  <thead>\n",
       "    <tr>\n",
       "      <th class=\"blank level0\" >&nbsp;</th>\n",
       "      <th id=\"T_e6205_level0_col0\" class=\"col_heading level0 col0\" >Total # of Stops</th>\n",
       "      <th id=\"T_e6205_level0_col1\" class=\"col_heading level0 col1\" >Percent of Stops</th>\n",
       "      <th id=\"T_e6205_level0_col2\" class=\"col_heading level0 col2\" ># of Warnings Issued</th>\n",
       "      <th id=\"T_e6205_level0_col3\" class=\"col_heading level0 col3\" >Percent of Warnings Issued</th>\n",
       "    </tr>\n",
       "    <tr>\n",
       "      <th class=\"index_name level0\" >Race</th>\n",
       "      <th class=\"blank col0\" >&nbsp;</th>\n",
       "      <th class=\"blank col1\" >&nbsp;</th>\n",
       "      <th class=\"blank col2\" >&nbsp;</th>\n",
       "      <th class=\"blank col3\" >&nbsp;</th>\n",
       "    </tr>\n",
       "  </thead>\n",
       "  <tbody>\n",
       "    <tr>\n",
       "      <th id=\"T_e6205_level0_row0\" class=\"row_heading level0 row0\" >white</th>\n",
       "      <td id=\"T_e6205_row0_col0\" class=\"data row0 col0\" >162226.000000</td>\n",
       "      <td id=\"T_e6205_row0_col1\" class=\"data row0 col1\" >0.424906</td>\n",
       "      <td id=\"T_e6205_row0_col2\" class=\"data row0 col2\" >50670.000000</td>\n",
       "      <td id=\"T_e6205_row0_col3\" class=\"data row0 col3\" >0.420718</td>\n",
       "    </tr>\n",
       "    <tr>\n",
       "      <th id=\"T_e6205_level0_row1\" class=\"row_heading level0 row1\" >hispanic</th>\n",
       "      <td id=\"T_e6205_row1_col0\" class=\"data row1 col0\" >117083.000000</td>\n",
       "      <td id=\"T_e6205_row1_col1\" class=\"data row1 col1\" >0.306666</td>\n",
       "      <td id=\"T_e6205_row1_col2\" class=\"data row1 col2\" >33863.000000</td>\n",
       "      <td id=\"T_e6205_row1_col3\" class=\"data row1 col3\" >0.281168</td>\n",
       "    </tr>\n",
       "    <tr>\n",
       "      <th id=\"T_e6205_level0_row2\" class=\"row_heading level0 row2\" >black</th>\n",
       "      <td id=\"T_e6205_row2_col0\" class=\"data row2 col0\" >42705.000000</td>\n",
       "      <td id=\"T_e6205_row2_col1\" class=\"data row2 col1\" >0.111854</td>\n",
       "      <td id=\"T_e6205_row2_col2\" class=\"data row2 col2\" >16780.000000</td>\n",
       "      <td id=\"T_e6205_row2_col3\" class=\"data row2 col3\" >0.139326</td>\n",
       "    </tr>\n",
       "    <tr>\n",
       "      <th id=\"T_e6205_level0_row3\" class=\"row_heading level0 row3\" >asian/pacific islander</th>\n",
       "      <td id=\"T_e6205_row3_col0\" class=\"data row3 col0\" >32541.000000</td>\n",
       "      <td id=\"T_e6205_row3_col1\" class=\"data row3 col1\" >0.085232</td>\n",
       "      <td id=\"T_e6205_row3_col2\" class=\"data row3 col2\" >11985.000000</td>\n",
       "      <td id=\"T_e6205_row3_col3\" class=\"data row3 col3\" >0.099513</td>\n",
       "    </tr>\n",
       "    <tr>\n",
       "      <th id=\"T_e6205_level0_row4\" class=\"row_heading level0 row4\" >other</th>\n",
       "      <td id=\"T_e6205_row4_col0\" class=\"data row4 col0\" >27238.000000</td>\n",
       "      <td id=\"T_e6205_row4_col1\" class=\"data row4 col1\" >0.071342</td>\n",
       "      <td id=\"T_e6205_row4_col2\" class=\"data row4 col2\" >7139.000000</td>\n",
       "      <td id=\"T_e6205_row4_col3\" class=\"data row4 col3\" >0.059276</td>\n",
       "    </tr>\n",
       "  </tbody>\n",
       "</table>\n"
      ],
      "text/plain": [
       "<pandas.io.formats.style.Styler at 0x7fc7467395b0>"
      ]
     },
     "execution_count": 143,
     "metadata": {},
     "output_type": "execute_result"
    }
   ],
   "source": [
    "warning = pd.DataFrame([demographic_groups, percentage_of_groups, warning_issued_groups, percentage_warning_issued],index=['Total # of Stops', 'Percent of Stops', '# of Warnings Issued', 'Percent of Warnings Issued']).T\n",
    "index = warning.index\n",
    "index.name = \"Race\"\n",
    "warning.style.set_caption('Demographic Parity Fairness: Warnings Issued').set_table_styles([{\n",
    "    'selector': 'caption',\n",
    "    'props': [\n",
    "        ('color', 'Black'),\n",
    "        ('font-size', '15px'),\n",
    "        ('font-style', 'italic'),\n",
    "        ('font-weight', 'bold'),\n",
    "        ('text-align', 'center')\n",
    "    ]\n",
    "}])"
   ]
  },
  {
   "cell_type": "code",
   "execution_count": 144,
   "metadata": {},
   "outputs": [
    {
     "data": {
      "text/plain": [
       "Text(0.5, 1.0, 'Distribution of Stops and Warnings Issued per Race')"
      ]
     },
     "execution_count": 144,
     "metadata": {},
     "output_type": "execute_result"
    },
    {
     "data": {
      "image/png": "[encoded data removed]",
      "text/plain": [
       "<Figure size 432x288 with 1 Axes>"
      ]
     },
     "metadata": {
      "needs_background": "light"
     },
     "output_type": "display_data"
    }
   ],
   "source": [
    "ax = warning.plot(y=\"Total # of Stops\", use_index=True , kind=\"bar\", color='lavender')\n",
    "warning.plot(y=\"# of Warnings Issued\", kind=\"bar\", ax=ax, color=\"plum\")\n",
    "plt.xlabel(\"Race\")\n",
    "plt.ylabel('Number of people')\n",
    "plt.title(\"Distribution of Stops and Warnings Issued per Race\", fontdict={'fontsize': 10, 'fontweight':'bold'})\n",
    "#warning.plot(y= ['# of Demographic Group',\"# of Warnings Issued\"], use_index=True, kind='bar')"
   ]
  },
  {
   "cell_type": "code",
   "execution_count": 145,
   "metadata": {},
   "outputs": [
    {
     "data": {
      "text/plain": [
       "Text(0.5, 1.0, 'Comparison between Percentage of Stops and Warnings Issued per Race')"
      ]
     },
     "execution_count": 145,
     "metadata": {},
     "output_type": "execute_result"
    },
    {
     "data": {
      "image/png": "[encoded data removed]",
      "text/plain": [
       "<Figure size 432x288 with 1 Axes>"
      ]
     },
     "metadata": {
      "needs_background": "light"
     },
     "output_type": "display_data"
    }
   ],
   "source": [
    "warning.plot(y= ['Percent of Stops',\"Percent of Warnings Issued\"], use_index=True, kind='bar', color =['paleturquoise','teal'])\n",
    "plt.xlabel(\"Race\")\n",
    "plt.ylabel('Percentages')\n",
    "plt.title(\"Comparison between Percentage of Stops and Warnings Issued per Race\", fontdict={'fontsize': 9, 'fontweight':'bold'})"
   ]
  },
  {
   "cell_type": "markdown",
   "metadata": {},
   "source": [
    "## Interpreting Results from Quantitative Measures"
   ]
  },
  {
   "cell_type": "markdown",
   "metadata": {},
   "source": [
    "For “Demographic Parity Fairness: Searched,” we saw that out of the total number of police stops around 42.49% were White individuals, even though they were only searched 4510 times which accounted for 27.76% of all searches conducted by the police in San Diego within the dataset. There’s a substantial deviation from what should be expected where the demographics of people who ended up being searched after being stopped should be proportional to the demographics of the people who were stopped by the police. And it’s even greater for Hispanic and Black individuals. Where 30.67% of people stopped were Hispanic, but they were searched 6501 times which accounted for 40.02% of all searches conducted. Similarly, Black individuals accounted for 11.19% of all police stops, but were searched at a substantially high rate of 23.84% of the people who were ultimately searched. Almost every race demographic had a disparity between the rates they were stopped and the rates they were searched. Thus we noticed how the San Diego Police Department are generally unfair to and potentially biased against Hispanic and Black individuals, while they in turn favor White, Asian/Pacific Islander and other demographic groups as they are searched significantly less proportionally to their respective number of police stops.\n",
    "\n",
    "Likewise, when interpreting the results for “Searched (Person)” and “Searched (Vehicles),” we still noticed the same substantive unfairness to Hispanic and Black individuals as the police ultimately search a larger percentage of these demographic groups than their total percentage of stops, especially when compared to their White and Asian/Pacific Islander counterparts. Our intention of looking into these more specific features was to find out whether the type of search varied in its results, and while it remained relatively similar there were some differences we noticed. Hispanic individuals were searched 36.21% out of the total person searches conducted, while they were searched 42.87% out of the total vehicle searches, a 6.66% difference. Oppositely Black individuals had a higher percentage of all vehicle searches, than their percentage of total person searches conducted. It is important to note that there were more vehicle searches conducted than person searches within this dataset. \n",
    "\n",
    "Taking a look at “Demographic Parity Fairness: Arrested,” we noticed the same general patterns between the investigations we conducted on searches. Under demographic parity-terms, the police continually are biased against Hispanic and Black individuals and are more likely to search and arrest these demographic groups than the percentage out of all police stops. In turn, the police continuously favor White, Asian/Pacific Islander, and other demographic groups throughout all their stops under this definition of fairness. However, unlike when analyzing the outcome of searches, the deviations between the rates each demographic group was stopped and the rates they were arrested are slightly less significant. 42.49% of individuals stopped were White, and 36.81% of individuals arrested were also White. 35.63% of people stopped were Hispanic, and Hispanic individuals accounted for 35.63% of people arrested. While police are still unfairly and more likely to arrest Hispanic and Black individuals, the disparity isn’t as huge as we noticed for searches. \n",
    "\n",
    "When looking at the figures for “Citations Issued” and “Warnings Issued,” every racial group is generally proportional in their respective percentages of police stops and the percentages of receiving a citation or a warning among every demographic group. Taking a closer look at the investigation done on citations, White individuals resulted in the largest increase from their expected percentage, however, it was only 1.35%. On the other hand, Black individuals resulted in the biggest decrease from their expected percentage, but the decrease was only 1.79%. These findings lead to us believing that the police were generally fair to every race when issuing a citation. Our investigation for warnings was on a similar note, however Black individuals resulted in the higher increase from their expected percentage at 2.74%, while Hispanic individuals resulted in the biggest decrease at 2.55% less than expected. While the deviations were slightly higher than we found for citations, it still is not significant enough to draw any major conclusions. Thus these results show that police in San Diego are fair to every race in general with slight bias in favor for Hispanic individuals, and slightly likelier to give Black individuals a warning. Overall the results for “Citations Issued” and “Warnings Issued” were reasonably fair in terms of Demographic Parity.\n",
    "\n",
    "Since we mainly based our investigation on Demographic Parity, there are many limitations to the results we achieved. Specifically since Demographic Parity really only concerns the final outcome of the police stop rather than also focusing on the equality of treatment, the numbers at hand ultimately determine fairness in our analysis. In the future, we hope to continue expanding to other definitions of fairness to compare the results we obtained in order to get a better understanding of the inequality at hand. In addition, as mentioned above, factors like poorly defined variables in our “subject_race” column can lead to limiting our research to just a small set of demographic groups when there are groups like Native Americans, Multi-racial individuals, and more which would make our investigations into the San Diego Police Department more interesting to see how smaller minority groups are affected.\n"
   ]
  },
  {
   "cell_type": "markdown",
   "metadata": {},
   "source": [
    "## References"
   ]
  },
  {
   "cell_type": "markdown",
   "metadata": {},
   "source": [
    "​​Cortez, V. (2020, June 8). How to define fairness to detect and prevent discriminatory outcomes in machine learning. Medium. Retrieved May 8, 2022, from https://towardsdatascience.com/how-to-define-fairness-to-detect-and-prevent-discriminatory-outcomes-in-machine-learning-ef23fd408ef2 \n",
    "\n",
    " D'Ignazio, C., & Klein, L. (2020, March 16). Data Feminism. Retrieved May 8, 2022, from https://data-feminism.mitpress.mit.edu/ \n",
    " \n",
    "Fraenkel, A. (n.d.). Fairness & Algorithmic Decision making. Fairness and Algorithmic Decision Making. Retrieved May 8, 2022, from https://afraenkel.github.io/fairness-book/intro.html \n",
    "\n",
    "Kumar, D., Tang, E., & Zhong, M. (n.d.). (rep.). Machine Learning Analysis on the Fairness of the Boston Police Department Stop and Frisk Practices. \n",
    "\n",
    "Walsh, C. (2021, February 24). Solving racial disparities in policing. Harvard Gazette. Retrieved May 8, 2022, from https://news.harvard.edu/gazette/story/2021/02/solving-racial-disparities-in-policing/ \n",
    "\n",
    "\n",
    "Other Links: \n",
    "https://api.census.gov/data/2016/acs/acs1/variables.html\n",
    "\n",
    "https://geographicdata.science/book/data/sandiego/sandiego_tracts_cleaning.html\n",
    "\n",
    "https://afraenkel.github.io/fairness-algo-decision/assignments/inequity-analysis/"
   ]
  }
 ],
 "metadata": {
  "kernelspec": {
   "display_name": "Python 3 (ipykernel)",
   "language": "python",
   "name": "python3"
  },
  "language_info": {
   "codemirror_mode": {
    "name": "ipython",
    "version": 3
   },
   "file_extension": ".py",
   "mimetype": "text/x-python",
   "name": "python",
   "nbconvert_exporter": "python",
   "pygments_lexer": "ipython3",
   "version": "3.9.7"
  }
 },
 "nbformat": 4,
 "nbformat_minor": 2
}
